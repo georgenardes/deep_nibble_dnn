{
 "cells": [
  {
   "cell_type": "code",
   "execution_count": null,
   "metadata": {},
   "outputs": [],
   "source": [
    "from dataset import load_mnist, load_cifar10\n",
    "import tensorflow as tf\n",
    "from resnet import resnet18, resnet34"
   ]
  },
  {
   "cell_type": "code",
   "execution_count": null,
   "metadata": {},
   "outputs": [],
   "source": [
    "import tensorflow as tf\n",
    "import numpy as np\n",
    "\n",
    "\n",
    "\n",
    "class WarmUpAndCosineDecay(tf.keras.optimizers.schedules.LearningRateSchedule):\n",
    "    def __init__(self, max_learning_rate, warmup_steps, total_steps):\n",
    "        super(WarmUpAndCosineDecay, self).__init__()\n",
    "        self.max_learning_rate = max_learning_rate\n",
    "        self.warmup_steps = warmup_steps\n",
    "        self.total_steps = total_steps\n",
    "\n",
    "    def __call__(self, step):\n",
    "        linear_warmup = self.max_learning_rate * step / self.warmup_steps\n",
    "        cosine_decay = 0.5 * self.max_learning_rate * (1 + tf.cos(\n",
    "            tf.constant(np.pi) * (step - self.warmup_steps) / (self.total_steps - self.warmup_steps)))\n",
    "        return tf.where(step < self.warmup_steps, linear_warmup, cosine_decay)\n",
    "\n",
    "    def get_config(self):\n",
    "        return {\n",
    "            \"max_learning_rate\": self.max_learning_rate,\n",
    "            \"warmup_steps\": self.warmup_steps,\n",
    "            \"total_steps\": self.total_steps\n",
    "        }\n",
    "    \n"
   ]
  },
  {
   "cell_type": "code",
   "execution_count": null,
   "metadata": {},
   "outputs": [],
   "source": [
    "_input = tf.keras.layers.Input(shape=(32,32,3))\n",
    "_output = resnet18(_input, num_classes=10)\n",
    "\n",
    "model = tf.keras.models.Model(inputs=_input, outputs=_output)\n",
    "optimizer = tf.keras.optimizers.Adam(learning_rate=WarmUpAndCosineDecay(0.001, 5,  50))\n",
    "model.compile(optimizer, loss=tf.keras.losses.CategoricalCrossentropy(from_logits=True, label_smoothing=0.8), metrics=['accuracy'])\n",
    "\n",
    "\n",
    "model.summary()\n",
    "model.save(\"resnet18.h5\")"
   ]
  },
  {
   "cell_type": "code",
   "execution_count": null,
   "metadata": {},
   "outputs": [],
   "source": [
    "x_train, y_train, x_test, y_test = load_cifar10()"
   ]
  },
  {
   "cell_type": "code",
   "execution_count": null,
   "metadata": {},
   "outputs": [],
   "source": [
    "model.fit(x_train, y_train, batch_size=256, epochs=50, validation_data=(x_test, y_test), validation_batch_size=16)\n",
    "\n"
   ]
  },
  {
   "cell_type": "code",
   "execution_count": null,
   "metadata": {},
   "outputs": [],
   "source": []
  }
 ],
 "metadata": {
  "kernelspec": {
   "display_name": ".venv",
   "language": "python",
   "name": "python3"
  },
  "language_info": {
   "codemirror_mode": {
    "name": "ipython",
    "version": 3
   },
   "file_extension": ".py",
   "mimetype": "text/x-python",
   "name": "python",
   "nbconvert_exporter": "python",
   "pygments_lexer": "ipython3",
   "version": "3.10.9"
  },
  "orig_nbformat": 4
 },
 "nbformat": 4,
 "nbformat_minor": 2
}
