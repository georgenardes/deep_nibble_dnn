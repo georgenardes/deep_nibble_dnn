{
 "cells": [
  {
   "cell_type": "code",
   "execution_count": null,
   "metadata": {},
   "outputs": [],
   "source": [
    "import tensorflow as tf\n",
    "import qvgg16\n",
    "import qresnet\n",
    "import dataset\n",
    "from tensorflow import keras\n",
    "from keras import layers\n",
    "from qkeras import *"
   ]
  },
  {
   "cell_type": "markdown",
   "metadata": {},
   "source": [
    "# load the data"
   ]
  },
  {
   "cell_type": "code",
   "execution_count": null,
   "metadata": {},
   "outputs": [],
   "source": [
    "x_train, y_train, x_test, y_test = dataset.load_cifar100()"
   ]
  },
  {
   "cell_type": "markdown",
   "metadata": {},
   "source": [
    "# create the model"
   ]
  },
  {
   "cell_type": "code",
   "execution_count": null,
   "metadata": {},
   "outputs": [],
   "source": [
    "x = x_in = layers.Input(x_train.shape[1:], name=\"input\")\n",
    "x = keras.layers.RandomFlip(mode=\"horizontal\")(x)\n",
    "# x = keras.layers.RandomBrightness(factor=(-0.1,0.1))(x)\n",
    "# x = keras.layers.RandomContrast(factor=0.1)(x)\n",
    "x = keras.layers.GaussianNoise(0.05)(x)\n",
    "x = QActivation(quantized_relu_po2(4,1,use_stochastic_rounding=True))(x)\n",
    "x = qvgg16.VGG_16(x, num_classes=100)\n",
    "# x = qresnet.resnet32(x, num_classes=100, width_factor=2.0)\n",
    "qmodel = keras.Model(inputs=[x_in], outputs=[x])\n",
    "qmodel.summary()"
   ]
  },
  {
   "cell_type": "markdown",
   "metadata": {},
   "source": [
    "# compile"
   ]
  },
  {
   "cell_type": "code",
   "execution_count": null,
   "metadata": {},
   "outputs": [],
   "source": [
    "class ResNetPaperLR(tf.keras.optimizers.schedules.LearningRateSchedule):\n",
    "    def __init__(self, initial_lr = 0.1, learning_rate_decay=10, steps=[32000, 48000]):\n",
    "        super(ResNetPaperLR, self).__init__()\n",
    "        self.initial_lr = initial_lr\n",
    "        self.learning_rate_decay = learning_rate_decay\n",
    "        self.steps = steps\n",
    "        self.current_lr = 0\n",
    "    def __call__(self, step):        \n",
    "        step12 = tf.where(step < self.steps[1], self.initial_lr/self.learning_rate_decay, self.initial_lr/(self.learning_rate_decay**2))    \n",
    "        step01 = tf.where(step < self.steps[0], self.initial_lr, step12)\n",
    "        return step01\n",
    "                         \n",
    "\n",
    "    def get_config(self):\n",
    "        return {\n",
    "            \"initial_lr\": self.initial_lr,\n",
    "            \"learning_rate_decay\": self.learning_rate_decay,\n",
    "            \"steps\": self.steps\n",
    "        }\n",
    "\n",
    "\n",
    "NB_EPOCH = 1\n",
    "BATCH_SIZE = 128\n",
    "VERBOSE = 1\n",
    "STEPS = int((x_train.shape[0] / BATCH_SIZE) * NB_EPOCH)\n",
    "OPTIMIZER = keras.optimizers.Adam(learning_rate=ResNetPaperLR(0.0001, steps=[int(STEPS*0.6), int(STEPS*0.9)]), decay=0.000025)\n",
    "qmodel.compile(optimizer=OPTIMIZER, loss=keras.losses.CategoricalCrossentropy(from_logits=True, label_smoothing=0.02), metrics=[\"accuracy\"])"
   ]
  },
  {
   "cell_type": "markdown",
   "metadata": {},
   "source": [
    "# train"
   ]
  },
  {
   "cell_type": "code",
   "execution_count": null,
   "metadata": {},
   "outputs": [],
   "source": [
    "history = qmodel.fit(x_train, y_train, batch_size=BATCH_SIZE, epochs=NB_EPOCH, initial_epoch=0, verbose=VERBOSE, validation_data=(x_test, y_test), validation_freq=2)"
   ]
  },
  {
   "cell_type": "code",
   "execution_count": null,
   "metadata": {},
   "outputs": [],
   "source": [
    "NB_EPOCH = 25\n",
    "BATCH_SIZE = 128\n",
    "VERBOSE = 1\n",
    "STEPS = int((x_train.shape[0] / BATCH_SIZE) * NB_EPOCH)\n",
    "OPTIMIZER = keras.optimizers.Adam(learning_rate=ResNetPaperLR(0.001, steps=[int(STEPS*0.6), int(STEPS*0.9)]), decay=0.000025)\n",
    "qmodel.compile(optimizer=OPTIMIZER, loss=keras.losses.CategoricalCrossentropy(from_logits=True, label_smoothing=0.02), metrics=[\"accuracy\"])"
   ]
  },
  {
   "cell_type": "code",
   "execution_count": null,
   "metadata": {},
   "outputs": [],
   "source": [
    "history = qmodel.fit(x_train, y_train, batch_size=BATCH_SIZE, epochs=NB_EPOCH, initial_epoch=0, verbose=VERBOSE, validation_data=(x_test, y_test), validation_freq=2)"
   ]
  },
  {
   "cell_type": "code",
   "execution_count": null,
   "metadata": {},
   "outputs": [],
   "source": [
    "import matplotlib.pyplot as plt\n",
    "\n",
    "\n",
    "#plt.plot(history.history[\"loss\"])\n",
    "plt.plot(history.history[\"val_loss\"])\n",
    "plt.show()    \n",
    "#plt.plot(history.history[\"accuracy\"])\n",
    "plt.plot(history.history[\"val_accuracy\"])\n",
    "plt.show()    "
   ]
  },
  {
   "cell_type": "markdown",
   "metadata": {},
   "source": [
    "# save the model"
   ]
  },
  {
   "cell_type": "code",
   "execution_count": null,
   "metadata": {},
   "outputs": [],
   "source": [
    "qmodel.save(\"vggmodels/cifar_fp32.h5\")"
   ]
  },
  {
   "cell_type": "markdown",
   "metadata": {},
   "source": [
    "# load the model and quantize"
   ]
  },
  {
   "cell_type": "code",
   "execution_count": null,
   "metadata": {},
   "outputs": [],
   "source": [
    "from qkeras.utils import model_quantize\n",
    "\n",
    "quantizer_config = {    \n",
    "    \"QConv2D\": {\n",
    "        \"kernel_quantizer\": \"quantized_po2(4,1,use_stochastic_rounding=True)\",\n",
    "        \"bias_quantizer\": \"quantized_po2(4,1,use_stochastic_rounding=True)\"\n",
    "    },\n",
    "    \"QDense\": {\n",
    "        \"kernel_quantizer\": \"quantized_po2(4,1,use_stochastic_rounding=True)\",\n",
    "        \"bias_quantizer\": \"quantized_po2(4,1,use_stochastic_rounding=True)\"\n",
    "    },\n",
    "    \"QActivation\": { \"relu\": \"quantized_relu_po2(4,1,use_stochastic_rounding=True)\" },    \n",
    "}\n",
    "\n",
    "qmodel2 = model_quantize(qmodel, quantizer_config, activation_bits=4, transfer_weights=True)\n",
    "\n",
    "for layer in qmodel2.layers:\n",
    "    if hasattr(layer, \"kernel_quantizer\"):\n",
    "        print(layer.name, \"kernel:\", str(layer.kernel_quantizer_internal), \"bias:\", str(layer.bias_quantizer_internal))\n",
    "    elif hasattr(layer, \"quantizer\"):\n",
    "        print(layer.name, \"quantizer:\", str(layer.quantizer))"
   ]
  },
  {
   "cell_type": "markdown",
   "metadata": {},
   "source": [
    "# finetune the quantized model"
   ]
  },
  {
   "cell_type": "code",
   "execution_count": null,
   "metadata": {},
   "outputs": [],
   "source": [
    "NB_EPOCH = 8\n",
    "BATCH_SIZE = 128\n",
    "VERBOSE = 1\n",
    "STEPS = int((x_train.shape[0] / BATCH_SIZE) * NB_EPOCH)\n",
    "\n",
    "OPTIMIZER = keras.optimizers.Adam(learning_rate=ResNetPaperLR(0.0001, steps=[int(STEPS*0.6), int(STEPS*0.9)]), decay=0.000025)\n",
    "\n",
    "qmodel2.compile(optimizer=OPTIMIZER, loss=keras.losses.CategoricalCrossentropy(from_logits=True, label_smoothing=0.02), metrics=[\"accuracy\"])\n",
    "history = qmodel2.fit(x_train, y_train, batch_size=BATCH_SIZE, epochs=NB_EPOCH, initial_epoch=0, verbose=VERBOSE, validation_data=(x_test, y_test), validation_freq=2)"
   ]
  },
  {
   "cell_type": "markdown",
   "metadata": {},
   "source": [
    "# save the model"
   ]
  },
  {
   "cell_type": "code",
   "execution_count": null,
   "metadata": {},
   "outputs": [],
   "source": [
    "from qkeras.utils import model_save_quantized_weights, load_qmodel\n",
    "\n",
    "\n",
    "dic = model_save_quantized_weights(qmodel2, \"qmodels/cifar100_vgg16/qmodel_weights\")\n",
    "dic = model_save_quantized_weights(qmodel2, \"qmodels/cifar100_vgg16/qmodel_weights.h5\")\n",
    "qmodel2.save(\"qmodels/cifar100_vgg16/model.h5\")\n",
    "qmodel_load_test = load_qmodel(\"qmodels/cifar100_vgg16/model.h5\", custom_objects={\"ResNetPaperLR\":ResNetPaperLR})\n",
    "qmodel_load_test.evaluate(x_test, y_test)\n"
   ]
  },
  {
   "cell_type": "code",
   "execution_count": null,
   "metadata": {},
   "outputs": [],
   "source": [
    "print_qstats(qmodel2)"
   ]
  },
  {
   "cell_type": "code",
   "execution_count": null,
   "metadata": {},
   "outputs": [],
   "source": []
  }
 ],
 "metadata": {
  "kernelspec": {
   "display_name": ".venv",
   "language": "python",
   "name": "python3"
  },
  "language_info": {
   "codemirror_mode": {
    "name": "ipython",
    "version": 3
   },
   "file_extension": ".py",
   "mimetype": "text/x-python",
   "name": "python",
   "nbconvert_exporter": "python",
   "pygments_lexer": "ipython3",
   "version": "3.10.9"
  },
  "orig_nbformat": 4
 },
 "nbformat": 4,
 "nbformat_minor": 2
}
