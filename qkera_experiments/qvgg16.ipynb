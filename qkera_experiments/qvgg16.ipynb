{
 "cells": [
  {
   "cell_type": "code",
   "execution_count": 1,
   "metadata": {},
   "outputs": [],
   "source": [
    "import tensorflow as tf\n",
    "import qvgg16\n",
    "import dataset\n",
    "from tensorflow import keras\n",
    "from keras import layers\n",
    "from qkeras import *"
   ]
  },
  {
   "cell_type": "code",
   "execution_count": 2,
   "metadata": {},
   "outputs": [
    {
     "name": "stdout",
     "output_type": "stream",
     "text": [
      "(50000, 1)\n"
     ]
    }
   ],
   "source": [
    "x_train, y_train, x_test, y_test = dataset.load_cifar10()"
   ]
  },
  {
   "cell_type": "code",
   "execution_count": 3,
   "metadata": {},
   "outputs": [
    {
     "name": "stdout",
     "output_type": "stream",
     "text": [
      "Model: \"model\"\n",
      "_________________________________________________________________\n",
      " Layer (type)                Output Shape              Param #   \n",
      "=================================================================\n",
      " input (InputLayer)          [(None, 32, 32, 3)]       0         \n",
      "                                                                 \n",
      " q_activation (QActivation)  (None, 32, 32, 3)         0         \n",
      "                                                                 \n",
      " conv2d (Conv2D)             (None, 32, 32, 64)        1792      \n",
      "                                                                 \n",
      " re_lu (ReLU)                (None, 32, 32, 64)        0         \n",
      "                                                                 \n",
      " conv2d_1 (Conv2D)           (None, 32, 32, 64)        36928     \n",
      "                                                                 \n",
      " re_lu_1 (ReLU)              (None, 32, 32, 64)        0         \n",
      "                                                                 \n",
      " max_pooling2d (MaxPooling2D  (None, 16, 16, 64)       0         \n",
      " )                                                               \n",
      "                                                                 \n",
      " conv2d_2 (Conv2D)           (None, 16, 16, 128)       73856     \n",
      "                                                                 \n",
      " re_lu_2 (ReLU)              (None, 16, 16, 128)       0         \n",
      "                                                                 \n",
      " conv2d_3 (Conv2D)           (None, 16, 16, 128)       147584    \n",
      "                                                                 \n",
      " re_lu_3 (ReLU)              (None, 16, 16, 128)       0         \n",
      "                                                                 \n",
      " max_pooling2d_1 (MaxPooling  (None, 8, 8, 128)        0         \n",
      " 2D)                                                             \n",
      "                                                                 \n",
      " conv2d_4 (Conv2D)           (None, 8, 8, 256)         295168    \n",
      "                                                                 \n",
      " re_lu_4 (ReLU)              (None, 8, 8, 256)         0         \n",
      "                                                                 \n",
      " conv2d_5 (Conv2D)           (None, 8, 8, 256)         590080    \n",
      "                                                                 \n",
      " re_lu_5 (ReLU)              (None, 8, 8, 256)         0         \n",
      "                                                                 \n",
      " conv2d_6 (Conv2D)           (None, 8, 8, 256)         590080    \n",
      "                                                                 \n",
      " re_lu_6 (ReLU)              (None, 8, 8, 256)         0         \n",
      "                                                                 \n",
      " max_pooling2d_2 (MaxPooling  (None, 4, 4, 256)        0         \n",
      " 2D)                                                             \n",
      "                                                                 \n",
      " flatten (Flatten)           (None, 4096)              0         \n",
      "                                                                 \n",
      " dense (Dense)               (None, 256)               1048832   \n",
      "                                                                 \n",
      " re_lu_7 (ReLU)              (None, 256)               0         \n",
      "                                                                 \n",
      " dense_1 (Dense)             (None, 256)               65792     \n",
      "                                                                 \n",
      " re_lu_8 (ReLU)              (None, 256)               0         \n",
      "                                                                 \n",
      " dense_2 (Dense)             (None, 10)                2570      \n",
      "                                                                 \n",
      "=================================================================\n",
      "Total params: 2,852,682\n",
      "Trainable params: 2,852,682\n",
      "Non-trainable params: 0\n",
      "_________________________________________________________________\n"
     ]
    }
   ],
   "source": [
    "x = x_in = layers.Input(x_train.shape[1:], name=\"input\")\n",
    "x = QActivation(quantized_relu_po2(4,1,use_stochastic_rounding=True))(x)\n",
    "x = qvgg16.VGG_16(x, num_classes=10, width_factor=2)\n",
    "qmodel = keras.Model(inputs=[x_in], outputs=[x])\n",
    "qmodel.summary()"
   ]
  },
  {
   "cell_type": "code",
   "execution_count": 4,
   "metadata": {},
   "outputs": [],
   "source": [
    "class ResNetPaperLR(tf.keras.optimizers.schedules.LearningRateSchedule):\n",
    "    def __init__(self, initial_lr = 0.1, learning_rate_decay=10, steps=[32000, 48000]):\n",
    "        super(ResNetPaperLR, self).__init__()\n",
    "        self.initial_lr = initial_lr\n",
    "        self.learning_rate_decay = learning_rate_decay\n",
    "        self.steps = steps\n",
    "        self.current_lr = 0\n",
    "    def __call__(self, step):        \n",
    "        step12 = tf.where(step < self.steps[1], self.initial_lr/self.learning_rate_decay, self.initial_lr/(self.learning_rate_decay**2))    \n",
    "        step01 = tf.where(step < self.steps[0], self.initial_lr, step12)\n",
    "        return step01\n",
    "                         \n",
    "\n",
    "    def get_config(self):\n",
    "        return {\n",
    "            \"initial_lr\": self.initial_lr,\n",
    "            \"learning_rate_decay\": self.learning_rate_decay,\n",
    "            \"steps\": self.steps\n",
    "        }\n",
    "\n",
    "\n",
    "NB_EPOCH = 20\n",
    "BATCH_SIZE = 128\n",
    "VERBOSE = 1\n",
    "STEPS = int((x_train.shape[0] / BATCH_SIZE) * NB_EPOCH)\n",
    "\n",
    "OPTIMIZER = keras.optimizers.Adam(learning_rate=ResNetPaperLR(0.001, steps=[int(STEPS*0.6), int(STEPS*0.9)]), decay=0.000025)\n",
    "\n",
    "qmodel.compile(optimizer=OPTIMIZER, loss=keras.losses.CategoricalCrossentropy(from_logits=True, label_smoothing=0.02), metrics=[\"accuracy\"])\n"
   ]
  },
  {
   "cell_type": "code",
   "execution_count": 5,
   "metadata": {},
   "outputs": [
    {
     "name": "stdout",
     "output_type": "stream",
     "text": [
      "Epoch 1/20\n",
      "391/391 [==============================] - 14s 28ms/step - loss: 1.7335 - accuracy: 0.3562\n",
      "Epoch 2/20\n",
      "391/391 [==============================] - 11s 29ms/step - loss: 1.2751 - accuracy: 0.5553 - val_loss: 1.1656 - val_accuracy: 0.6092\n",
      "Epoch 3/20\n",
      "391/391 [==============================] - 10s 27ms/step - loss: 1.0489 - accuracy: 0.6514\n",
      "Epoch 4/20\n",
      "391/391 [==============================] - 11s 28ms/step - loss: 0.8816 - accuracy: 0.7172 - val_loss: 0.9126 - val_accuracy: 0.7077\n",
      "Epoch 5/20\n",
      "391/391 [==============================] - 10s 27ms/step - loss: 0.7658 - accuracy: 0.7619\n",
      "Epoch 6/20\n",
      "391/391 [==============================] - 11s 28ms/step - loss: 0.6457 - accuracy: 0.8114 - val_loss: 0.8959 - val_accuracy: 0.7181\n",
      "Epoch 7/20\n",
      "391/391 [==============================] - 10s 27ms/step - loss: 0.5501 - accuracy: 0.8496\n",
      "Epoch 8/20\n",
      "391/391 [==============================] - 11s 28ms/step - loss: 0.4586 - accuracy: 0.8832 - val_loss: 0.8991 - val_accuracy: 0.7357\n",
      "Epoch 9/20\n",
      "391/391 [==============================] - 11s 27ms/step - loss: 0.3767 - accuracy: 0.9187\n",
      "Epoch 10/20\n",
      "391/391 [==============================] - 11s 28ms/step - loss: 0.3012 - accuracy: 0.9464 - val_loss: 1.0629 - val_accuracy: 0.7230\n",
      "Epoch 11/20\n",
      "391/391 [==============================] - 11s 27ms/step - loss: 0.2646 - accuracy: 0.9598\n",
      "Epoch 12/20\n",
      "391/391 [==============================] - 11s 28ms/step - loss: 0.2413 - accuracy: 0.9678 - val_loss: 1.1056 - val_accuracy: 0.7308\n",
      "Epoch 13/20\n",
      "391/391 [==============================] - 10s 27ms/step - loss: 0.1770 - accuracy: 0.9932\n",
      "Epoch 14/20\n",
      "391/391 [==============================] - 11s 28ms/step - loss: 0.1586 - accuracy: 0.9990 - val_loss: 1.0036 - val_accuracy: 0.7493\n",
      "Epoch 15/20\n",
      "391/391 [==============================] - 10s 27ms/step - loss: 0.1536 - accuracy: 0.9995\n",
      "Epoch 16/20\n",
      "391/391 [==============================] - 11s 28ms/step - loss: 0.1505 - accuracy: 0.9996 - val_loss: 0.9857 - val_accuracy: 0.7498\n",
      "Epoch 17/20\n",
      "391/391 [==============================] - 10s 27ms/step - loss: 0.1481 - accuracy: 0.9997\n",
      "Epoch 18/20\n",
      "391/391 [==============================] - 11s 28ms/step - loss: 0.1461 - accuracy: 0.9998 - val_loss: 0.9766 - val_accuracy: 0.7488\n",
      "Epoch 19/20\n",
      "391/391 [==============================] - 11s 27ms/step - loss: 0.1444 - accuracy: 0.9998\n",
      "Epoch 20/20\n",
      "391/391 [==============================] - 11s 29ms/step - loss: 0.1442 - accuracy: 0.9998 - val_loss: 0.9739 - val_accuracy: 0.7495\n"
     ]
    }
   ],
   "source": [
    "history = qmodel.fit(x_train, y_train, batch_size=BATCH_SIZE, epochs=NB_EPOCH, initial_epoch=0, verbose=VERBOSE, validation_data=(x_test, y_test), validation_freq=2)"
   ]
  },
  {
   "cell_type": "code",
   "execution_count": 6,
   "metadata": {},
   "outputs": [],
   "source": [
    "qmodel.save(\"vggmodels/fp32.h5\")"
   ]
  },
  {
   "cell_type": "code",
   "execution_count": 7,
   "metadata": {},
   "outputs": [
    {
     "name": "stderr",
     "output_type": "stream",
     "text": [
      "c:\\Users\\georg\\Desktop\\mestrado_luiz\\deep_nibble_dnn\\.venv\\lib\\site-packages\\keras\\initializers\\initializers_v2.py:120: UserWarning: The initializer GlorotUniform is unseeded and being called multiple times, which will return identical values  each time (even if the initializer is unseeded). Please update your code to provide a seed to the initializer, or avoid using the same initalizer instance more than once.\n",
      "  warnings.warn(\n"
     ]
    },
    {
     "name": "stdout",
     "output_type": "stream",
     "text": [
      "q_activation quantizer: quantized_relu_po2(4,1,1)\n",
      "conv2d kernel: quantized_po2(4,1,1) bias: quantized_po2(4,1,1)\n",
      "re_lu quantizer: quantized_relu_po2(4,1,1)\n",
      "conv2d_1 kernel: quantized_po2(4,1,1) bias: quantized_po2(4,1,1)\n",
      "re_lu_1 quantizer: quantized_relu_po2(4,1,1)\n",
      "conv2d_2 kernel: quantized_po2(4,1,1) bias: quantized_po2(4,1,1)\n",
      "re_lu_2 quantizer: quantized_relu_po2(4,1,1)\n",
      "conv2d_3 kernel: quantized_po2(4,1,1) bias: quantized_po2(4,1,1)\n",
      "re_lu_3 quantizer: quantized_relu_po2(4,1,1)\n",
      "conv2d_4 kernel: quantized_po2(4,1,1) bias: quantized_po2(4,1,1)\n",
      "re_lu_4 quantizer: quantized_relu_po2(4,1,1)\n",
      "conv2d_5 kernel: quantized_po2(4,1,1) bias: quantized_po2(4,1,1)\n",
      "re_lu_5 quantizer: quantized_relu_po2(4,1,1)\n",
      "conv2d_6 kernel: quantized_po2(4,1,1) bias: quantized_po2(4,1,1)\n",
      "re_lu_6 quantizer: quantized_relu_po2(4,1,1)\n",
      "dense kernel: quantized_po2(4,1,1) bias: quantized_po2(4,1,1)\n",
      "re_lu_7 quantizer: quantized_relu_po2(4,1,1)\n",
      "dense_1 kernel: quantized_po2(4,1,1) bias: quantized_po2(4,1,1)\n",
      "re_lu_8 quantizer: quantized_relu_po2(4,1,1)\n",
      "dense_2 kernel: quantized_po2(4,1,1) bias: quantized_po2(4,1,1)\n"
     ]
    }
   ],
   "source": [
    "from qkeras.utils import model_quantize\n",
    "\n",
    "quantizer_config = {    \n",
    "    \"QConv2D\": {\n",
    "        \"kernel_quantizer\": \"quantized_po2(4,1,use_stochastic_rounding=True)\",\n",
    "        \"bias_quantizer\": \"quantized_po2(4,1,use_stochastic_rounding=True)\"\n",
    "    },\n",
    "    \"QDense\": {\n",
    "        \"kernel_quantizer\": \"quantized_po2(4,1,use_stochastic_rounding=True)\",\n",
    "        \"bias_quantizer\": \"quantized_po2(4,1,use_stochastic_rounding=True)\"\n",
    "    },\n",
    "    \"QActivation\": { \"relu\": \"quantized_relu_po2(4,1,use_stochastic_rounding=True)\" },    \n",
    "}\n",
    "\n",
    "qmodel2 = model_quantize(qmodel, quantizer_config, activation_bits=4, transfer_weights=True)\n",
    "\n",
    "for layer in qmodel2.layers:\n",
    "    if hasattr(layer, \"kernel_quantizer\"):\n",
    "        print(layer.name, \"kernel:\", str(layer.kernel_quantizer_internal), \"bias:\", str(layer.bias_quantizer_internal))\n",
    "    elif hasattr(layer, \"quantizer\"):\n",
    "        print(layer.name, \"quantizer:\", str(layer.quantizer))"
   ]
  },
  {
   "cell_type": "code",
   "execution_count": 9,
   "metadata": {},
   "outputs": [
    {
     "name": "stdout",
     "output_type": "stream",
     "text": [
      "Epoch 1/4\n",
      "391/391 [==============================] - 30s 71ms/step - loss: 0.3158 - accuracy: 0.9580\n",
      "Epoch 2/4\n",
      "391/391 [==============================] - 32s 83ms/step - loss: 0.2280 - accuracy: 0.9740 - val_loss: 1.0164 - val_accuracy: 0.7274\n",
      "Epoch 3/4\n",
      "391/391 [==============================] - 28s 71ms/step - loss: 0.2057 - accuracy: 0.9807\n",
      "Epoch 4/4\n",
      "391/391 [==============================] - 32s 81ms/step - loss: 0.1931 - accuracy: 0.9855 - val_loss: 1.0317 - val_accuracy: 0.7315\n"
     ]
    }
   ],
   "source": [
    "NB_EPOCH = 4\n",
    "BATCH_SIZE = 128\n",
    "VERBOSE = 1\n",
    "STEPS = int((x_train.shape[0] / BATCH_SIZE) * NB_EPOCH)\n",
    "\n",
    "OPTIMIZER = keras.optimizers.Adam(learning_rate=ResNetPaperLR(0.0001, steps=[int(STEPS*0.6), int(STEPS*0.9)]), decay=0.000025)\n",
    "\n",
    "qmodel2.compile(optimizer=OPTIMIZER, loss=keras.losses.CategoricalCrossentropy(from_logits=True, label_smoothing=0.02), metrics=[\"accuracy\"])\n",
    "history = qmodel2.fit(x_train, y_train, batch_size=BATCH_SIZE, epochs=NB_EPOCH, initial_epoch=0, verbose=VERBOSE, validation_data=(x_test, y_test), validation_freq=2)"
   ]
  },
  {
   "cell_type": "code",
   "execution_count": 10,
   "metadata": {},
   "outputs": [
    {
     "data": {
      "image/png": "[encoded data removed]",
      "text/plain": [
       "<Figure size 640x480 with 1 Axes>"
      ]
     },
     "metadata": {},
     "output_type": "display_data"
    },
    {
     "data": {
      "image/png": "[encoded data removed]",
      "text/plain": [
       "<Figure size 640x480 with 1 Axes>"
      ]
     },
     "metadata": {},
     "output_type": "display_data"
    }
   ],
   "source": [
    "import matplotlib.pyplot as plt\n",
    "\n",
    "\n",
    "#plt.plot(history.history[\"loss\"])\n",
    "plt.plot(history.history[\"val_loss\"])\n",
    "plt.show()    \n",
    "#plt.plot(history.history[\"accuracy\"])\n",
    "plt.plot(history.history[\"val_accuracy\"])\n",
    "plt.show()    "
   ]
  },
  {
   "cell_type": "code",
   "execution_count": 12,
   "metadata": {},
   "outputs": [
    {
     "name": "stdout",
     "output_type": "stream",
     "text": [
      "... quantizing model\n",
      "... quantizing model\n"
     ]
    },
    {
     "name": "stderr",
     "output_type": "stream",
     "text": [
      "c:\\Users\\georg\\Desktop\\mestrado_luiz\\deep_nibble_dnn\\.venv\\lib\\site-packages\\keras\\initializers\\initializers_v2.py:120: UserWarning: The initializer GlorotUniform is unseeded and being called multiple times, which will return identical values  each time (even if the initializer is unseeded). Please update your code to provide a seed to the initializer, or avoid using the same initalizer instance more than once.\n",
      "  warnings.warn(\n"
     ]
    },
    {
     "name": "stdout",
     "output_type": "stream",
     "text": [
      "313/313 [==============================] - 7s 19ms/step - loss: 1.0317 - accuracy: 0.7315\n"
     ]
    },
    {
     "data": {
      "text/plain": [
       "[1.0317189693450928, 0.7315000295639038]"
      ]
     },
     "execution_count": 12,
     "metadata": {},
     "output_type": "execute_result"
    }
   ],
   "source": [
    "from qkeras.utils import model_save_quantized_weights, load_qmodel\n",
    "\n",
    "\n",
    "dic = model_save_quantized_weights(qmodel2, \"qmodels/vgg16/qmodel_weights\")\n",
    "dic = model_save_quantized_weights(qmodel2, \"qmodels/vgg16/qmodel_weights.h5\")\n",
    "qmodel2.save(\"qmodels/vgg16/model.h5\")\n",
    "qmodel_load_test = load_qmodel(\"qmodels/vgg16/model.h5\", custom_objects={\"ResNetPaperLR\":ResNetPaperLR})\n",
    "qmodel_load_test.evaluate(x_test, y_test)\n"
   ]
  },
  {
   "cell_type": "code",
   "execution_count": 13,
   "metadata": {},
   "outputs": [
    {
     "name": "stdout",
     "output_type": "stream",
     "text": [
      "WARNING:tensorflow:From c:\\Users\\georg\\Desktop\\mestrado_luiz\\deep_nibble_dnn\\.venv\\lib\\site-packages\\qkeras\\estimate.py:345: Tensor.experimental_ref (from tensorflow.python.framework.ops) is deprecated and will be removed in a future version.\n",
      "Instructions for updating:\n",
      "Use ref() instead.\n"
     ]
    },
    {
     "name": "stderr",
     "output_type": "stream",
     "text": [
      "WARNING:tensorflow:From c:\\Users\\georg\\Desktop\\mestrado_luiz\\deep_nibble_dnn\\.venv\\lib\\site-packages\\qkeras\\estimate.py:345: Tensor.experimental_ref (from tensorflow.python.framework.ops) is deprecated and will be removed in a future version.\n",
      "Instructions for updating:\n",
      "Use ref() instead.\n"
     ]
    },
    {
     "name": "stdout",
     "output_type": "stream",
     "text": [
      "\n",
      "Number of operations in model:\n",
      "    conv2d                        : 1769472 (sadder_4_4)\n",
      "    conv2d_1                      : 37748736 (sadder_4_4)\n",
      "    conv2d_2                      : 18874368 (sadder_4_4)\n",
      "    conv2d_3                      : 37748736 (sadder_4_4)\n",
      "    conv2d_4                      : 18874368 (sadder_4_4)\n",
      "    conv2d_5                      : 37748736 (sadder_4_4)\n",
      "    conv2d_6                      : 37748736 (sadder_4_4)\n",
      "    dense                         : 1048576 (sadder_4_4)\n",
      "    dense_1                       : 65536 (sadder_4_4)\n",
      "    dense_2                       : 2560  (sadder_4_4)\n",
      "\n",
      "Number of operation types in model:\n",
      "    sadder_4_4                    : 191629824\n",
      "\n",
      "Weight profiling:\n",
      "    conv2d_weights                 : 1728  (4-bit unit)\n",
      "    conv2d_bias                    : 64    (4-bit unit)\n",
      "    conv2d_1_weights               : 36864 (4-bit unit)\n",
      "    conv2d_1_bias                  : 64    (4-bit unit)\n",
      "    conv2d_2_weights               : 73728 (4-bit unit)\n",
      "    conv2d_2_bias                  : 128   (4-bit unit)\n",
      "    conv2d_3_weights               : 147456 (4-bit unit)\n",
      "    conv2d_3_bias                  : 128   (4-bit unit)\n",
      "    conv2d_4_weights               : 294912 (4-bit unit)\n",
      "    conv2d_4_bias                  : 256   (4-bit unit)\n",
      "    conv2d_5_weights               : 589824 (4-bit unit)\n",
      "    conv2d_5_bias                  : 256   (4-bit unit)\n",
      "    conv2d_6_weights               : 589824 (4-bit unit)\n",
      "    conv2d_6_bias                  : 256   (4-bit unit)\n",
      "    dense_weights                  : 1048576 (4-bit unit)\n",
      "    dense_bias                     : 256   (4-bit unit)\n",
      "    dense_1_weights                : 65536 (4-bit unit)\n",
      "    dense_1_bias                   : 256   (4-bit unit)\n",
      "    dense_2_weights                : 2560  (4-bit unit)\n",
      "    dense_2_bias                   : 10    (4-bit unit)\n",
      "\n",
      "Weight sparsity:\n",
      "... quantizing model\n",
      "    conv2d                         : 0.0000\n",
      "    conv2d_1                       : 0.0000\n",
      "    conv2d_2                       : 0.0000\n",
      "    conv2d_3                       : 0.0000\n",
      "    conv2d_4                       : 0.0000\n",
      "    conv2d_5                       : 0.0000\n",
      "    conv2d_6                       : 0.0000\n",
      "    dense                          : 0.0000\n",
      "    dense_1                        : 0.0000\n",
      "    dense_2                        : 0.0000\n",
      "    ----------------------------------------\n",
      "    Total Sparsity                 : 0.0000\n"
     ]
    }
   ],
   "source": [
    "print_qstats(qmodel2)"
   ]
  },
  {
   "cell_type": "code",
   "execution_count": null,
   "metadata": {},
   "outputs": [],
   "source": []
  }
 ],
 "metadata": {
  "kernelspec": {
   "display_name": ".venv",
   "language": "python",
   "name": "python3"
  },
  "language_info": {
   "codemirror_mode": {
    "name": "ipython",
    "version": 3
   },
   "file_extension": ".py",
   "mimetype": "text/x-python",
   "name": "python",
   "nbconvert_exporter": "python",
   "pygments_lexer": "ipython3",
   "version": "3.10.9"
  },
  "orig_nbformat": 4
 },
 "nbformat": 4,
 "nbformat_minor": 2
}
