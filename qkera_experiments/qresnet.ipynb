{
 "cells": [
  {
   "cell_type": "code",
   "execution_count": null,
   "metadata": {},
   "outputs": [],
   "source": [
    "import tensorflow as tf\n",
    "import qresnet\n",
    "import dataset\n",
    "from tensorflow import keras\n",
    "from keras import layers\n",
    "from qkeras import *"
   ]
  },
  {
   "cell_type": "code",
   "execution_count": null,
   "metadata": {},
   "outputs": [],
   "source": [
    "x_train, y_train, x_test, y_test = dataset.load_cifar10()"
   ]
  },
  {
   "cell_type": "code",
   "execution_count": null,
   "metadata": {},
   "outputs": [],
   "source": [
    "x = x_in = layers.Input(x_train.shape[1:], name=\"input\")\n",
    "x = QActivation(quantized_relu_po2(4,1,use_stochastic_rounding=True))(x)\n",
    "x = qresnet.resnet32(x, num_classes=10)\n",
    "qmodel = keras.Model(inputs=[x_in], outputs=[x])\n",
    "qmodel.summary()\n"
   ]
  },
  {
   "cell_type": "code",
   "execution_count": null,
   "metadata": {},
   "outputs": [],
   "source": [
    "class ResNetPaperLR(tf.keras.optimizers.schedules.LearningRateSchedule):\n",
    "    def __init__(self, initial_lr = 0.1, learning_rate_decay=10, steps=[32000, 48000]):\n",
    "        super(ResNetPaperLR, self).__init__()\n",
    "        self.initial_lr = initial_lr\n",
    "        self.learning_rate_decay = learning_rate_decay\n",
    "        self.steps = steps\n",
    "        self.current_lr = 0\n",
    "    def __call__(self, step):        \n",
    "        step12 = tf.where(step < self.steps[1], self.initial_lr/self.learning_rate_decay, self.initial_lr/(self.learning_rate_decay**2))    \n",
    "        step01 = tf.where(step < self.steps[0], self.initial_lr, step12)\n",
    "        return step01\n",
    "                         \n",
    "\n",
    "    def get_config(self):\n",
    "        return {\n",
    "            \"initial_lr\": self.initial_lr,\n",
    "            \"learning_rate_decay\": self.learning_rate_decay,\n",
    "            \"steps\": self.steps\n",
    "        }\n",
    "\n",
    "\n",
    "NB_EPOCH = 164\n",
    "BATCH_SIZE = 128\n",
    "VERBOSE = 1\n",
    "\n",
    "OPTIMIZER = keras.optimizers.Adam(learning_rate=ResNetPaperLR(0.001), decay=0.000025)\n",
    "\n",
    "qmodel.compile(optimizer=OPTIMIZER, loss=keras.losses.CategoricalCrossentropy(from_logits=True, label_smoothing=0.02), metrics=[\"accuracy\"])\n"
   ]
  },
  {
   "cell_type": "code",
   "execution_count": null,
   "metadata": {},
   "outputs": [],
   "source": [
    "history = qmodel.fit(x_train, y_train, batch_size=BATCH_SIZE, epochs=NB_EPOCH, initial_epoch=0, verbose=VERBOSE, validation_data=(x_test, y_test), validation_freq=2)\n"
   ]
  },
  {
   "cell_type": "code",
   "execution_count": null,
   "metadata": {},
   "outputs": [],
   "source": [
    "import matplotlib.pyplot as plt\n",
    "\n",
    "\n",
    "#plt.plot(history.history[\"loss\"])\n",
    "plt.plot(history.history[\"val_loss\"])\n",
    "plt.show()    \n",
    "#plt.plot(history.history[\"accuracy\"])\n",
    "plt.plot(history.history[\"val_accuracy\"])\n",
    "plt.show()    "
   ]
  },
  {
   "cell_type": "code",
   "execution_count": null,
   "metadata": {},
   "outputs": [],
   "source": [
    "from qkeras.utils import model_save_quantized_weights, load_qmodel\n",
    "\n",
    "\n",
    "dic = model_save_quantized_weights(qmodel, \"qmodels/resnet32/qmodel_weights\")\n",
    "dic = model_save_quantized_weights(qmodel, \"qmodels/resnet32/qmodel_weights.h5\")\n",
    "qmodel.save(\"qmodels/resnet32/model.h5\")\n",
    "qmodel_load_test = load_qmodel(\"qmodels/resnet32/model.h5\", custom_objects={\"ResNetPaperLR\":ResNetPaperLR})\n",
    "qmodel_load_test.evaluate(x_test, y_test)\n"
   ]
  },
  {
   "cell_type": "code",
   "execution_count": null,
   "metadata": {},
   "outputs": [],
   "source": [
    "print_qstats(qmodel)"
   ]
  },
  {
   "cell_type": "code",
   "execution_count": null,
   "metadata": {},
   "outputs": [],
   "source": []
  }
 ],
 "metadata": {
  "kernelspec": {
   "display_name": ".venv",
   "language": "python",
   "name": "python3"
  },
  "language_info": {
   "codemirror_mode": {
    "name": "ipython",
    "version": 3
   },
   "file_extension": ".py",
   "mimetype": "text/x-python",
   "name": "python",
   "nbconvert_exporter": "python",
   "pygments_lexer": "ipython3",
   "version": "3.10.10"
  },
  "orig_nbformat": 4
 },
 "nbformat": 4,
 "nbformat_minor": 2
}
